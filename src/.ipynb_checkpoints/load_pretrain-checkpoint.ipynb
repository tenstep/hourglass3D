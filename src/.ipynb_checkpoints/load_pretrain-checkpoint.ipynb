{
 "cells": [
  {
   "cell_type": "code",
   "execution_count": 2,
   "metadata": {
    "collapsed": false
   },
   "outputs": [
    {
     "data": {
      "text/plain": [
       "{\n",
       "  getregistryvalue : function: 0x41337ca0\n",
       "  is_mac : function: 0x4073c3e0\n",
       "  mkdir : function: 0x40740be8\n",
       "  dirp : function: 0x41337c28\n",
       "  execdir : function: 0x40740b50\n",
       "  dir : function: 0x40740b98\n",
       "  extname : function: 0x41337d08\n",
       "  tmpname : function: 0x40740bc0\n",
       "  uname : function: 0x41337c78\n",
       "  dirname : function: 0x41337ce0\n",
       "  basename : function: 0x41337c50\n",
       "  findprogram : function: 0x4073c2f8\n",
       "  files : function: 0x40740a90\n",
       "  filep : function: 0x40734970\n",
       "  require : function: 0x4073c398\n",
       "  dofile : function: 0x4073c298\n",
       "  thisfile : function: 0x4073c210\n",
       "  iterfiles : function: 0x40740ad0\n",
       "  concat : function: 0x40740b28\n",
       "  iterdirs : function: 0x40740ab0\n",
       "  rmall : function: 0x4073c2b8\n",
       "  home : /home/yuyin\n",
       "  rmdir : function: 0x40740c10\n",
       "  cwd : function: 0x4134d108\n",
       "  is_win : function: 0x4073c3c0\n",
       "}\n"
      ]
     },
     "execution_count": 2,
     "metadata": {},
     "output_type": "execute_result"
    }
   ],
   "source": [
    "require 'paths'\n"
   ]
  },
  {
   "cell_type": "code",
   "execution_count": null,
   "metadata": {
    "collapsed": false
   },
   "outputs": [],
   "source": []
  },
  {
   "cell_type": "code",
   "execution_count": null,
   "metadata": {
    "collapsed": true
   },
   "outputs": [],
   "source": []
  }
 ],
 "metadata": {
  "kernelspec": {
   "display_name": "iTorch",
   "language": "lua",
   "name": "itorch"
  },
  "language_info": {
   "name": "lua",
   "version": "5.1"
  }
 },
 "nbformat": 4,
 "nbformat_minor": 1
}
