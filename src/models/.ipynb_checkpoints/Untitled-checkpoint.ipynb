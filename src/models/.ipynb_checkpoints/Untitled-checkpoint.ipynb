{
 "cells": [
  {
   "cell_type": "code",
   "execution_count": null,
   "metadata": {
    "collapsed": true
   },
   "outputs": [],
   "source": [
    "require 'paths'\n",
    "require 'nn'\n",
    "require 'cudnn'\n",
    "require 'nngraph'\n",
    "nnlib = cudnn\n",
    "opt={}\n",
    "ref={}\n",
    "opt.nModules = 1\n",
    "opt.nFeats = 256\n",
    "opt.nStack = 8\n",
    "ref.nOutChannels = 16\n",
    "paths.dofile('Residual.lua')\n",
    "paths.dofile('hg.lua')\n",
    "model = createModel()\n",
    "model:cuda()\n",
    "--cudnn.convert(model,cudnn)\n",
    "pretrain = torch.load('model_4.t7')\n",
    "pretrain:clearState()"
   ]
  }
 ],
 "metadata": {
  "kernelspec": {
   "display_name": "iTorch",
   "language": "lua",
   "name": "itorch"
  },
  "language_info": {
   "name": "lua",
   "version": "5.1"
  }
 },
 "nbformat": 4,
 "nbformat_minor": 1
}
