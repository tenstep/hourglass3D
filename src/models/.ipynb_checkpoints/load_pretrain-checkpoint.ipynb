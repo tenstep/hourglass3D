{
 "cells": [
  {
   "cell_type": "code",
   "execution_count": 1,
   "metadata": {
    "collapsed": false
   },
   "outputs": [],
   "source": [
    "require 'paths'\n",
    "require 'nn'\n",
    "require 'nngraph'\n",
    "require 'nnx'\n",
    "require 'cudnn'\n",
    "require 'cutorch'\n",
    "nnlib = cudnn\n",
    "paths.dofile('Residual.lua')\n",
    "opt={}\n",
    "ref={}\n",
    "opt.nModules = 1\n",
    "opt.nFeats = 256\n",
    "opt.nStack = 8\n",
    "ref.nOutChannels = 16\n",
    "paths.dofile('hg.lua')"
   ]
  },
  {
   "cell_type": "code",
   "execution_count": null,
   "metadata": {
    "collapsed": false
   },
   "outputs": [],
   "source": []
  },
  {
   "cell_type": "code",
   "execution_count": 4,
   "metadata": {
    "collapsed": false
   },
   "outputs": [],
   "source": [
    "for i = 1,pretrain:size() do\n",
    "    model.modules[i] = pretrain.modules[i]\n",
    "end"
   ]
  },
  {
   "cell_type": "code",
   "execution_count": null,
   "metadata": {
    "collapsed": false
   },
   "outputs": [],
   "source": []
  },
  {
   "cell_type": "code",
   "execution_count": 6,
   "metadata": {
    "collapsed": true
   },
   "outputs": [],
   "source": [
    "model:clearState()\n",
    "torch.save('model_mpii_MSE.t7', model)"
   ]
  },
  {
   "cell_type": "code",
   "execution_count": null,
   "metadata": {
    "collapsed": true
   },
   "outputs": [],
   "source": []
  }
 ],
 "metadata": {
  "kernelspec": {
   "display_name": "iTorch",
   "language": "lua",
   "name": "itorch"
  },
  "language_info": {
   "name": "lua",
   "version": "5.1"
  }
 },
 "nbformat": 4,
 "nbformat_minor": 1
}
